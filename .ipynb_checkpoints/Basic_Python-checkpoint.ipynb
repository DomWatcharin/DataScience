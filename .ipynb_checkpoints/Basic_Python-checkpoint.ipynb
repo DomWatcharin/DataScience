{
 "cells": [
  {
   "cell_type": "code",
   "execution_count": 17,
   "id": "718f1f48",
   "metadata": {},
   "outputs": [],
   "source": [
    "# Basic calculation"
   ]
  },
  {
   "cell_type": "code",
   "execution_count": 18,
   "id": "6d5b7c91",
   "metadata": {},
   "outputs": [
    {
     "data": {
      "text/plain": [
       "2"
      ]
     },
     "execution_count": 18,
     "metadata": {},
     "output_type": "execute_result"
    }
   ],
   "source": [
    "1+1"
   ]
  },
  {
   "cell_type": "code",
   "execution_count": 19,
   "id": "5fe3b52d",
   "metadata": {},
   "outputs": [
    {
     "data": {
      "text/plain": [
       "3"
      ]
     },
     "execution_count": 19,
     "metadata": {},
     "output_type": "execute_result"
    }
   ],
   "source": [
    "5-2"
   ]
  },
  {
   "cell_type": "code",
   "execution_count": 20,
   "id": "d9765b84",
   "metadata": {},
   "outputs": [
    {
     "data": {
      "text/plain": [
       "5.0"
      ]
     },
     "execution_count": 20,
     "metadata": {},
     "output_type": "execute_result"
    }
   ],
   "source": [
    "10/2"
   ]
  },
  {
   "cell_type": "code",
   "execution_count": 21,
   "id": "25d807bd",
   "metadata": {},
   "outputs": [
    {
     "data": {
      "text/plain": [
       "10"
      ]
     },
     "execution_count": 21,
     "metadata": {},
     "output_type": "execute_result"
    }
   ],
   "source": [
    "5*2"
   ]
  },
  {
   "cell_type": "code",
   "execution_count": 22,
   "id": "a12e9e11",
   "metadata": {},
   "outputs": [
    {
     "data": {
      "text/plain": [
       "25"
      ]
     },
     "execution_count": 22,
     "metadata": {},
     "output_type": "execute_result"
    }
   ],
   "source": [
    "5**2"
   ]
  },
  {
   "cell_type": "code",
   "execution_count": 23,
   "id": "4a2dbcdb",
   "metadata": {},
   "outputs": [
    {
     "name": "stdout",
     "output_type": "stream",
     "text": [
      "3300\n"
     ]
    }
   ],
   "source": [
    "# Create Variableincome =6500\n",
    "expense =3200\n",
    "saving = income - expense\n",
    "print(saving)"
   ]
  },
  {
   "cell_type": "code",
   "execution_count": 24,
   "id": "257d6c7e",
   "metadata": {},
   "outputs": [
    {
     "name": "stdout",
     "output_type": "stream",
     "text": [
      "Hello World\n",
      "Hello World\n"
     ]
    }
   ],
   "source": [
    "# Print string\n",
    "print(\"Hello World\")\n",
    "print('Hello World')"
   ]
  },
  {
   "cell_type": "code",
   "execution_count": 26,
   "id": "700bde5f",
   "metadata": {},
   "outputs": [
    {
     "name": "stdout",
     "output_type": "stream",
     "text": [
      "David is 25 years old.\n"
     ]
    }
   ],
   "source": [
    "# print fstring template\n",
    "name = \"David\"\n",
    "age = 25\n",
    "print(f\"{name} is {age} years old.\")"
   ]
  },
  {
   "cell_type": "code",
   "execution_count": 34,
   "id": "1266bd30",
   "metadata": {},
   "outputs": [
    {
     "name": "stdout",
     "output_type": "stream",
     "text": [
      "<class 'int'>\n",
      "<class 'float'>\n",
      "<class 'str'>\n",
      "<class 'bool'>\n"
     ]
    }
   ],
   "source": [
    "## Data type\n",
    "#int float string bool\n",
    "type(100)\n",
    "type(120.025)\n",
    "type(\"hi\")\n",
    "type(True)\n",
    "print(type(100))\n",
    "print(type(120.025))\n",
    "print(type(\"hi\"))\n",
    "print(type(True))"
   ]
  },
  {
   "cell_type": "code",
   "execution_count": 41,
   "id": "d8fbc46a",
   "metadata": {},
   "outputs": [
    {
     "name": "stdout",
     "output_type": "stream",
     "text": [
      "False\n",
      "True\n",
      "True\n",
      "False\n"
     ]
    }
   ],
   "source": [
    "# Compare Values\n",
    "print(1+1 ==200)\n",
    "print(\"Hello World\" == \"Hello World\")\n",
    "print(10*2<=20) \n",
    "print(10*2!=20) "
   ]
  },
  {
   "cell_type": "code",
   "execution_count": 85,
   "id": "b3f0bb78",
   "metadata": {},
   "outputs": [
    {
     "name": "stdout",
     "output_type": "stream",
     "text": [
      "[1000, 2000, 3000, 4000, 5000]\n",
      "[1000, 2000, 4000, 5000]\n"
     ]
    }
   ],
   "source": [
    "## Data structure - list\n",
    "# create a list of values\n",
    "numbers = [1000, 2000, 3000, 4000, 5000]\n",
    "print(numbers)\n",
    "# list method\n",
    "numbers.remove(3000)\n",
    "\n",
    "# add more to list\n",
    "numbers + [300, 1000, 2500]\n",
    "\n",
    "numbers.sort(reverse=False)\n",
    "print(numbers)"
   ]
  },
  {
   "cell_type": "code",
   "execution_count": 88,
   "id": "a3494184",
   "metadata": {},
   "outputs": [
    {
     "name": "stdout",
     "output_type": "stream",
     "text": [
      "1000\n",
      "2000\n"
     ]
    }
   ],
   "source": [
    "# get value from list, start with 0\n",
    "print(numbers[0])\n",
    "print(numbers[1])"
   ]
  },
  {
   "cell_type": "code",
   "execution_count": 67,
   "id": "867bc23c",
   "metadata": {},
   "outputs": [
    {
     "name": "stdout",
     "output_type": "stream",
     "text": [
      "David\n",
      "25\n",
      "male\n",
      "['The dark knight', 'The shawshank redemption', 'Pulp Fiction']\n"
     ]
    }
   ],
   "source": [
    "## Data structure - dictionary\n",
    "customers = {\n",
    "    \"name\": \"David\",\n",
    "    \"age\": 25,\n",
    "    \"gender\": \"male\",\n",
    "    \"fav_movie\": [\"The dark knight\",\n",
    "                  \"The shawshank redemption\",\n",
    "                  \"Pulp Fiction\"]\n",
    "}\n",
    "\n",
    "print(customers[\"name\"])\n",
    "print(customers[\"age\"])\n",
    "print(customers[\"gender\"])\n",
    "print(customers[\"fav_movie\"])"
   ]
  },
  {
   "cell_type": "code",
   "execution_count": 92,
   "id": "29be65ca",
   "metadata": {},
   "outputs": [
    {
     "name": "stdout",
     "output_type": "stream",
     "text": [
      "David\n",
      "The shawshank redemption\n"
     ]
    }
   ],
   "source": [
    "# get value from dictionary\n",
    "customers[\"name\"]\n",
    "print(customers[\"name\"])\n",
    "print(customers[\"fav_movie\"][1])"
   ]
  },
  {
   "cell_type": "code",
   "execution_count": 95,
   "id": "d0483db3",
   "metadata": {},
   "outputs": [
    {
     "data": {
      "text/plain": [
       "'Davidson'"
      ]
     },
     "execution_count": 95,
     "metadata": {},
     "output_type": "execute_result"
    }
   ],
   "source": [
    "# update value in dictionary\n",
    "customers[\"name\"] = 'Davidson'\n",
    "customers[\"name\"]"
   ]
  },
  {
   "cell_type": "code",
   "execution_count": 97,
   "id": "6b7d0c42",
   "metadata": {},
   "outputs": [
    {
     "data": {
      "text/plain": [
       "True"
      ]
     },
     "execution_count": 97,
     "metadata": {},
     "output_type": "execute_result"
    }
   ],
   "source": [
    "# check if key exists\n",
    "'gender' in customers"
   ]
  },
  {
   "cell_type": "code",
   "execution_count": 106,
   "id": "6f760c7a",
   "metadata": {},
   "outputs": [
    {
     "name": "stdout",
     "output_type": "stream",
     "text": [
      "Hi! David\n",
      "Hi! Mary\n",
      "Hi! Anne\n"
     ]
    }
   ],
   "source": [
    "## control flow - For Loop\n",
    "# list of friends\n",
    "friends = [\"David\", \"Mary\", \"Anne\"]\n",
    "\n",
    "for friend in friends:\n",
    "    print(\"Hi! \" + friend)"
   ]
  },
  {
   "cell_type": "code",
   "execution_count": 114,
   "id": "021ce889",
   "metadata": {},
   "outputs": [
    {
     "name": "stdout",
     "output_type": "stream",
     "text": [
      "Hello!\n"
     ]
    }
   ],
   "source": [
    "## Function\n",
    "#create new function\n",
    "\n",
    "# define function\n",
    "def greeting():\n",
    "    print(\"Hello!\")\n",
    "greeting()"
   ]
  },
  {
   "cell_type": "code",
   "execution_count": 115,
   "id": "c4ebb7a2",
   "metadata": {},
   "outputs": [
    {
     "name": "stdout",
     "output_type": "stream",
     "text": [
      "Hello! DOM\n",
      "DOM is 26 years old\n",
      "DOM is 26 years old\n"
     ]
    }
   ],
   "source": [
    "def greeting(name):\n",
    "    print(\"Hello! \" + name)\n",
    "greeting(\"DOM\")\n",
    "\n",
    "\n",
    "def greeting2(name, age):\n",
    "    print(f\"{name} is {age} years old\")\n",
    "greeting2(\"DOM\", 26)\n",
    "\n",
    "\n",
    "def greeting2(name, age):\n",
    "    return(f\"{name} is {age} years old\")\n",
    "text = greeting2(\"DOM\", 26)\n",
    "print(text)"
   ]
  },
  {
   "cell_type": "code",
   "execution_count": 117,
   "id": "7cf0d502",
   "metadata": {},
   "outputs": [
    {
     "name": "stdout",
     "output_type": "stream",
     "text": [
      "Passed\n"
     ]
    }
   ],
   "source": [
    "## control flow - if\n",
    "# if else\n",
    "score = 85\n",
    "if score >= 80:\n",
    "    print(\"Passed\")\n",
    "else:\n",
    "    print(\"False\")"
   ]
  },
  {
   "cell_type": "code",
   "execution_count": 126,
   "id": "5e918eeb",
   "metadata": {},
   "outputs": [],
   "source": [
    "# define a new function to assign grade\n",
    "def grade(score):\n",
    "    if score >= 80:\n",
    "        print(\"Passed\")\n",
    "    else:\n",
    "        print(\"False\")"
   ]
  },
  {
   "cell_type": "code",
   "execution_count": 127,
   "id": "22f66245",
   "metadata": {},
   "outputs": [
    {
     "name": "stdout",
     "output_type": "stream",
     "text": [
      "False\n"
     ]
    }
   ],
   "source": [
    "result = grade(60)"
   ]
  },
  {
   "cell_type": "code",
   "execution_count": 132,
   "id": "9cfeb167",
   "metadata": {},
   "outputs": [],
   "source": [
    "## Intro to OOP (Object Oreinted Programming)\n",
    "class Apple:\n",
    "    color = \"\"\n",
    "    flavor = \"\"\n",
    "    price = 0\n",
    "    \n",
    "# create instance\n",
    "jonagold = Apple"
   ]
  }
 ],
 "metadata": {
  "kernelspec": {
   "display_name": "Python 3 (ipykernel)",
   "language": "python",
   "name": "python3"
  },
  "language_info": {
   "codemirror_mode": {
    "name": "ipython",
    "version": 3
   },
   "file_extension": ".py",
   "mimetype": "text/x-python",
   "name": "python",
   "nbconvert_exporter": "python",
   "pygments_lexer": "ipython3",
   "version": "3.10.11"
  }
 },
 "nbformat": 4,
 "nbformat_minor": 5
}
