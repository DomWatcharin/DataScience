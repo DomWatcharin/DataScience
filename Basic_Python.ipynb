{
  "cells": [
    {
      "cell_type": "code",
      "execution_count": null,
      "id": "4a2dbcdb",
      "metadata": {
        "id": "4a2dbcdb",
        "outputId": "a9fd3fd0-aaac-4879-de7c-c9ae3557d011"
      },
      "outputs": [
        {
          "name": "stdout",
          "output_type": "stream",
          "text": [
            "3300\n"
          ]
        }
      ],
      "source": [
        "# Create Variableincome =6500\n",
        "expense =3200\n",
        "saving = income - expense\n",
        "print(saving)"
      ]
    },
    {
      "cell_type": "code",
      "execution_count": null,
      "id": "257d6c7e",
      "metadata": {
        "id": "257d6c7e",
        "outputId": "323953e3-253a-4e5b-c429-35f4fcf3316e"
      },
      "outputs": [
        {
          "name": "stdout",
          "output_type": "stream",
          "text": [
            "Hello World\n",
            "Hello World\n"
          ]
        }
      ],
      "source": [
        "# Print string\n",
        "print(\"Hello World\")\n",
        "print('Hello World')"
      ]
    },
    {
      "cell_type": "code",
      "execution_count": null,
      "id": "700bde5f",
      "metadata": {
        "id": "700bde5f",
        "outputId": "05ffa995-04cb-4881-9886-3fa999ab5c91"
      },
      "outputs": [
        {
          "name": "stdout",
          "output_type": "stream",
          "text": [
            "David is 25 years old.\n"
          ]
        }
      ],
      "source": [
        "# print fstring template\n",
        "name = \"David\"\n",
        "age = 25\n",
        "print(f\"{name} is {age} years old.\")"
      ]
    },
    {
      "cell_type": "code",
      "execution_count": null,
      "id": "1266bd30",
      "metadata": {
        "id": "1266bd30",
        "outputId": "b12575f3-fa8f-40b6-a5d3-df4ad9f01287"
      },
      "outputs": [
        {
          "name": "stdout",
          "output_type": "stream",
          "text": [
            "<class 'int'>\n",
            "<class 'float'>\n",
            "<class 'str'>\n",
            "<class 'bool'>\n"
          ]
        }
      ],
      "source": [
        "## Data type\n",
        "#int float string bool\n",
        "type(100)\n",
        "type(120.025)\n",
        "type(\"hi\")\n",
        "type(True)\n",
        "print(type(100))\n",
        "print(type(120.025))\n",
        "print(type(\"hi\"))\n",
        "print(type(True))"
      ]
    },
    {
      "cell_type": "code",
      "execution_count": null,
      "id": "d8fbc46a",
      "metadata": {
        "id": "d8fbc46a",
        "outputId": "ce2ec0cd-9623-4a4c-feba-cd4e9ba69a45"
      },
      "outputs": [
        {
          "name": "stdout",
          "output_type": "stream",
          "text": [
            "False\n",
            "True\n",
            "True\n",
            "False\n"
          ]
        }
      ],
      "source": [
        "# Compare Values\n",
        "print(1+1 ==200)\n",
        "print(\"Hello World\" == \"Hello World\")\n",
        "print(10*2<=20) \n",
        "print(10*2!=20) "
      ]
    },
    {
      "cell_type": "code",
      "execution_count": null,
      "id": "b3f0bb78",
      "metadata": {
        "id": "b3f0bb78",
        "outputId": "a6b7240c-2896-4030-bb7e-0f8fe9dd1c9e"
      },
      "outputs": [
        {
          "name": "stdout",
          "output_type": "stream",
          "text": [
            "[1000, 2000, 3000, 4000, 5000]\n",
            "[1000, 2000, 4000, 5000]\n"
          ]
        }
      ],
      "source": [
        "## Data structure - list\n",
        "# create a list of values\n",
        "numbers = [1000, 2000, 3000, 4000, 5000]\n",
        "print(numbers)\n",
        "# list method\n",
        "numbers.remove(3000)\n",
        "\n",
        "# add more to list\n",
        "numbers + [300, 1000, 2500]\n",
        "\n",
        "numbers.sort(reverse=False)\n",
        "print(numbers)"
      ]
    },
    {
      "cell_type": "code",
      "execution_count": null,
      "id": "a3494184",
      "metadata": {
        "id": "a3494184",
        "outputId": "761f6836-3d60-4f2d-b670-1224b0cf1141"
      },
      "outputs": [
        {
          "name": "stdout",
          "output_type": "stream",
          "text": [
            "1000\n",
            "2000\n"
          ]
        }
      ],
      "source": [
        "# get value from list, start with 0\n",
        "print(numbers[0])\n",
        "print(numbers[1])"
      ]
    },
    {
      "cell_type": "code",
      "execution_count": null,
      "id": "867bc23c",
      "metadata": {
        "id": "867bc23c",
        "outputId": "0db47bff-2e9a-4cfe-9fec-45da62f6c2d6"
      },
      "outputs": [
        {
          "name": "stdout",
          "output_type": "stream",
          "text": [
            "David\n",
            "25\n",
            "male\n",
            "['The dark knight', 'The shawshank redemption', 'Pulp Fiction']\n"
          ]
        }
      ],
      "source": [
        "## Data structure - dictionary\n",
        "customers = {\n",
        "    \"name\": \"David\",\n",
        "    \"age\": 25,\n",
        "    \"gender\": \"male\",\n",
        "    \"fav_movie\": [\"The dark knight\",\n",
        "                  \"The shawshank redemption\",\n",
        "                  \"Pulp Fiction\"]\n",
        "}\n",
        "\n",
        "print(customers[\"name\"])\n",
        "print(customers[\"age\"])\n",
        "print(customers[\"gender\"])\n",
        "print(customers[\"fav_movie\"])"
      ]
    },
    {
      "cell_type": "code",
      "execution_count": null,
      "id": "29be65ca",
      "metadata": {
        "id": "29be65ca",
        "outputId": "3531e522-456e-4d5e-89db-0a1c7cb05fff"
      },
      "outputs": [
        {
          "name": "stdout",
          "output_type": "stream",
          "text": [
            "David\n",
            "The shawshank redemption\n"
          ]
        }
      ],
      "source": [
        "# get value from dictionary\n",
        "customers[\"name\"]\n",
        "print(customers[\"name\"])\n",
        "print(customers[\"fav_movie\"][1])"
      ]
    },
    {
      "cell_type": "code",
      "execution_count": null,
      "id": "d0483db3",
      "metadata": {
        "id": "d0483db3",
        "outputId": "ca94f505-1e65-4be4-d387-49ae544b09f8"
      },
      "outputs": [
        {
          "data": {
            "text/plain": [
              "'Davidson'"
            ]
          },
          "execution_count": 95,
          "metadata": {},
          "output_type": "execute_result"
        }
      ],
      "source": [
        "# update value in dictionary\n",
        "customers[\"name\"] = 'Davidson'\n",
        "customers[\"name\"]"
      ]
    },
    {
      "cell_type": "code",
      "execution_count": null,
      "id": "6b7d0c42",
      "metadata": {
        "id": "6b7d0c42",
        "outputId": "6ae63573-c4f1-47b2-d722-7b8229f05da0"
      },
      "outputs": [
        {
          "data": {
            "text/plain": [
              "True"
            ]
          },
          "execution_count": 97,
          "metadata": {},
          "output_type": "execute_result"
        }
      ],
      "source": [
        "# check if key exists\n",
        "'gender' in customers"
      ]
    },
    {
      "cell_type": "code",
      "execution_count": null,
      "id": "6f760c7a",
      "metadata": {
        "id": "6f760c7a",
        "outputId": "61bbc841-c5b2-4490-946f-97d44d3df87f"
      },
      "outputs": [
        {
          "name": "stdout",
          "output_type": "stream",
          "text": [
            "Hi! David\n",
            "Hi! Mary\n",
            "Hi! Anne\n"
          ]
        }
      ],
      "source": [
        "## control flow - For Loop\n",
        "# list of friends\n",
        "friends = [\"David\", \"Mary\", \"Anne\"]\n",
        "\n",
        "for friend in friends:\n",
        "    print(\"Hi! \" + friend)"
      ]
    },
    {
      "cell_type": "code",
      "execution_count": null,
      "id": "021ce889",
      "metadata": {
        "id": "021ce889",
        "outputId": "de6e8087-cec2-4f5b-ef9d-ab4364681fda"
      },
      "outputs": [
        {
          "name": "stdout",
          "output_type": "stream",
          "text": [
            "Hello!\n"
          ]
        }
      ],
      "source": [
        "## Function\n",
        "#create new function\n",
        "\n",
        "# define function\n",
        "def greeting():\n",
        "    print(\"Hello!\")\n",
        "greeting()"
      ]
    },
    {
      "cell_type": "code",
      "execution_count": null,
      "id": "c4ebb7a2",
      "metadata": {
        "id": "c4ebb7a2",
        "outputId": "4c783e47-e304-40ca-84af-f1a32273b52a"
      },
      "outputs": [
        {
          "name": "stdout",
          "output_type": "stream",
          "text": [
            "Hello! DOM\n",
            "DOM is 26 years old\n",
            "DOM is 26 years old\n"
          ]
        }
      ],
      "source": [
        "def greeting(name):\n",
        "    print(\"Hello! \" + name)\n",
        "greeting(\"DOM\")\n",
        "\n",
        "\n",
        "def greeting2(name, age):\n",
        "    print(f\"{name} is {age} years old\")\n",
        "greeting2(\"DOM\", 26)\n",
        "\n",
        "\n",
        "def greeting2(name, age):\n",
        "    return(f\"{name} is {age} years old\")\n",
        "text = greeting2(\"DOM\", 26)\n",
        "print(text)"
      ]
    },
    {
      "cell_type": "code",
      "execution_count": null,
      "id": "7cf0d502",
      "metadata": {
        "id": "7cf0d502",
        "outputId": "6285b19c-8658-4754-a192-6f9c8402c079"
      },
      "outputs": [
        {
          "name": "stdout",
          "output_type": "stream",
          "text": [
            "Passed\n"
          ]
        }
      ],
      "source": [
        "## control flow - if\n",
        "# if else\n",
        "score = 85\n",
        "if score >= 80:\n",
        "    print(\"Passed\")\n",
        "else:\n",
        "    print(\"False\")"
      ]
    },
    {
      "cell_type": "code",
      "execution_count": null,
      "id": "5e918eeb",
      "metadata": {
        "id": "5e918eeb"
      },
      "outputs": [],
      "source": [
        "# define a new function to assign grade\n",
        "def grade(score):\n",
        "    if score >= 80:\n",
        "        print(\"Passed\")\n",
        "    else:\n",
        "        print(\"False\")"
      ]
    },
    {
      "cell_type": "code",
      "execution_count": null,
      "id": "22f66245",
      "metadata": {
        "id": "22f66245",
        "outputId": "c522bec3-19f4-436e-b9cf-d51076de84cd"
      },
      "outputs": [
        {
          "name": "stdout",
          "output_type": "stream",
          "text": [
            "False\n"
          ]
        }
      ],
      "source": [
        "result = grade(60)"
      ]
    },
    {
      "cell_type": "code",
      "execution_count": 12,
      "id": "9cfeb167",
      "metadata": {
        "id": "9cfeb167",
        "outputId": "0de649cf-2d0c-4e91-b0b1-f346d2416120",
        "colab": {
          "base_uri": "https://localhost:8080/"
        }
      },
      "outputs": [
        {
          "output_type": "stream",
          "name": "stdout",
          "text": [
            "red\n",
            "sweet\n",
            "100\n"
          ]
        }
      ],
      "source": [
        "## Intro to OOP (Object Oreinted Programming)\n",
        "class Apple:\n",
        "    color = \"\"\n",
        "    flavour = \"\"\n",
        "    price = 0\n",
        "    # class method\n",
        "    def make_some_noise(self): #make function for this class use self\n",
        "      print(\"I am very delecious!\")\n",
        "    def update_price(self, new_price):\n",
        "      self.price = new_price\n",
        "    \n",
        "# create instance\n",
        "jonagold = Apple()\n",
        "\n",
        "#crate attribute\n",
        "jonagold.color = \"red\"\n",
        "jonagold.flavour = \"sweet\"\n",
        "jonagold.price = 100\n",
        "\n",
        "#print value/attribute\n",
        "print(jonagold.color)\n",
        "print(jonagold.flavour)\n",
        "print(jonagold.price)"
      ]
    },
    {
      "cell_type": "code",
      "source": [
        "# How to use  Apple function \n",
        "# call method\n",
        "jonagold.make_some_noise()"
      ],
      "metadata": {
        "id": "3fD1ylkVtFGk",
        "outputId": "6ec51966-f55c-47ba-b8a3-5f873cda838e",
        "colab": {
          "base_uri": "https://localhost:8080/"
        }
      },
      "id": "3fD1ylkVtFGk",
      "execution_count": 16,
      "outputs": [
        {
          "output_type": "stream",
          "name": "stdout",
          "text": [
            "I am very delecious!\n"
          ]
        }
      ]
    },
    {
      "cell_type": "code",
      "source": [
        "# call update price\n",
        "jonagold.update_price(350)\n",
        "print(jonagold.price)"
      ],
      "metadata": {
        "id": "06pNn81rvFbq",
        "outputId": "a358cf8e-4ca9-4bfa-eb73-da1edde991bf",
        "colab": {
          "base_uri": "https://localhost:8080/"
        }
      },
      "id": "06pNn81rvFbq",
      "execution_count": 17,
      "outputs": [
        {
          "output_type": "stream",
          "name": "stdout",
          "text": [
            "350\n"
          ]
        }
      ]
    },
    {
      "cell_type": "code",
      "source": [],
      "metadata": {
        "id": "08ABH9v8vJFo"
      },
      "id": "08ABH9v8vJFo",
      "execution_count": null,
      "outputs": []
    }
  ],
  "metadata": {
    "kernelspec": {
      "display_name": "Python 3 (ipykernel)",
      "language": "python",
      "name": "python3"
    },
    "language_info": {
      "codemirror_mode": {
        "name": "ipython",
        "version": 3
      },
      "file_extension": ".py",
      "mimetype": "text/x-python",
      "name": "python",
      "nbconvert_exporter": "python",
      "pygments_lexer": "ipython3",
      "version": "3.10.11"
    },
    "colab": {
      "provenance": []
    }
  },
  "nbformat": 4,
  "nbformat_minor": 5
}