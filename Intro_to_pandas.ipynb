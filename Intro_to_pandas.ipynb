{
  "nbformat": 4,
  "nbformat_minor": 0,
  "metadata": {
    "colab": {
      "provenance": [],
      "authorship_tag": "ABX9TyPfhxakOksdYbur9XCx8jZb",
      "include_colab_link": true
    },
    "kernelspec": {
      "name": "python3",
      "display_name": "Python 3"
    },
    "language_info": {
      "name": "python"
    }
  },
  "cells": [
    {
      "cell_type": "markdown",
      "metadata": {
        "id": "view-in-github",
        "colab_type": "text"
      },
      "source": [
        "<a href=\"https://colab.research.google.com/github/DomWatcharin/DataScience/blob/main/Intro_to_pandas.ipynb\" target=\"_parent\"><img src=\"https://colab.research.google.com/assets/colab-badge.svg\" alt=\"Open In Colab\"/></a>"
      ]
    },
    {
      "cell_type": "markdown",
      "source": [
        "## **Introduction to Python**"
      ],
      "metadata": {
        "id": "P4xwih2jxgn9"
      }
    },
    {
      "cell_type": "code",
      "source": [
        "# Create Variable\n",
        "income =6500\n",
        "expense =3200\n",
        "saving = income - expense\n",
        "print(saving)"
      ],
      "metadata": {
        "id": "2p5Ul-zwwch6",
        "colab": {
          "base_uri": "https://localhost:8080/"
        },
        "outputId": "24960741-e6a5-4f5d-bab4-a62b8ba441d5"
      },
      "execution_count": 6,
      "outputs": [
        {
          "output_type": "stream",
          "name": "stdout",
          "text": [
            "3300\n"
          ]
        }
      ]
    },
    {
      "cell_type": "code",
      "source": [
        "# Print string\n",
        "print(\"Hello World\")\n",
        "print('Hello World')"
      ],
      "metadata": {
        "colab": {
          "base_uri": "https://localhost:8080/"
        },
        "id": "wJ5RIJOLySrP",
        "outputId": "b752a063-a24c-4d2e-a3c8-2b81a6701259"
      },
      "execution_count": 7,
      "outputs": [
        {
          "output_type": "stream",
          "name": "stdout",
          "text": [
            "Hello World\n",
            "Hello World\n"
          ]
        }
      ]
    },
    {
      "cell_type": "code",
      "source": [
        "# print fstring template\n",
        "name = \"David\"\n",
        "age = 25\n",
        "print(f\"{name} is {age} years old.\")"
      ],
      "metadata": {
        "colab": {
          "base_uri": "https://localhost:8080/"
        },
        "id": "ByEC_3N4yWPZ",
        "outputId": "8163ebb9-3ebd-485f-9b5f-81594f18317d"
      },
      "execution_count": 8,
      "outputs": [
        {
          "output_type": "stream",
          "name": "stdout",
          "text": [
            "David is 25 years old.\n"
          ]
        }
      ]
    },
    {
      "cell_type": "code",
      "source": [
        "## Data type\n",
        "#int float string bool\n",
        "type(100)\n",
        "type(120.025)\n",
        "type(\"hi\")\n",
        "type(True)\n",
        "print(type(100))\n",
        "print(type(120.025))\n",
        "print(type(\"hi\"))\n",
        "print(type(True))"
      ],
      "metadata": {
        "colab": {
          "base_uri": "https://localhost:8080/"
        },
        "id": "4LzsRpmgyXrM",
        "outputId": "d48bf97c-0d2a-4155-c68a-9ae95410e377"
      },
      "execution_count": 9,
      "outputs": [
        {
          "output_type": "stream",
          "name": "stdout",
          "text": [
            "<class 'int'>\n",
            "<class 'float'>\n",
            "<class 'str'>\n",
            "<class 'bool'>\n"
          ]
        }
      ]
    },
    {
      "cell_type": "code",
      "source": [
        "# Compare Values\n",
        "print(1+1 ==200)\n",
        "print(\"Hello World\" == \"Hello World\")\n",
        "print(10*2<=20) \n",
        "print(10*2!=20) "
      ],
      "metadata": {
        "colab": {
          "base_uri": "https://localhost:8080/"
        },
        "id": "RY7YESf1yaS1",
        "outputId": "cc7de7cc-e0bc-4931-9a58-42919a2d838e"
      },
      "execution_count": 10,
      "outputs": [
        {
          "output_type": "stream",
          "name": "stdout",
          "text": [
            "False\n",
            "True\n",
            "True\n",
            "False\n"
          ]
        }
      ]
    },
    {
      "cell_type": "code",
      "source": [
        "## Data structure - list\n",
        "# create a list of values\n",
        "numbers = [1000, 2000, 3000, 4000, 5000]\n",
        "print(numbers)\n",
        "# list method\n",
        "numbers.remove(3000)\n",
        "\n",
        "# add more to list\n",
        "numbers + [300, 1000, 2500]\n",
        "\n",
        "numbers.sort(reverse=False)\n",
        "print(numbers)"
      ],
      "metadata": {
        "colab": {
          "base_uri": "https://localhost:8080/"
        },
        "id": "cqVl_pWdydEf",
        "outputId": "cb6b4732-5b05-460c-e15a-6bdaae527312"
      },
      "execution_count": 11,
      "outputs": [
        {
          "output_type": "stream",
          "name": "stdout",
          "text": [
            "[1000, 2000, 3000, 4000, 5000]\n",
            "[1000, 2000, 4000, 5000]\n"
          ]
        }
      ]
    },
    {
      "cell_type": "code",
      "source": [
        "# get value from list, start with 0\n",
        "print(numbers[0])\n",
        "print(numbers[1])"
      ],
      "metadata": {
        "colab": {
          "base_uri": "https://localhost:8080/"
        },
        "id": "07uo3Lbgyf5v",
        "outputId": "6a47d8fe-ffe5-4821-bcf5-3a9b6d543599"
      },
      "execution_count": 12,
      "outputs": [
        {
          "output_type": "stream",
          "name": "stdout",
          "text": [
            "1000\n",
            "2000\n"
          ]
        }
      ]
    },
    {
      "cell_type": "code",
      "source": [
        "## Data structure - dictionary\n",
        "customers = {\n",
        "    \"name\": \"David\",\n",
        "    \"age\": 25,\n",
        "    \"gender\": \"male\",\n",
        "    \"fav_movie\": [\"The dark knight\",\n",
        "                  \"The shawshank redemption\",\n",
        "                  \"Pulp Fiction\"]\n",
        "}\n",
        "\n",
        "print(customers[\"name\"])\n",
        "print(customers[\"age\"])\n",
        "print(customers[\"gender\"])\n",
        "print(customers[\"fav_movie\"])"
      ],
      "metadata": {
        "colab": {
          "base_uri": "https://localhost:8080/"
        },
        "id": "BQ8QPIoeyiRy",
        "outputId": "4b39f788-a230-48e8-e322-229c74c2a6db"
      },
      "execution_count": 13,
      "outputs": [
        {
          "output_type": "stream",
          "name": "stdout",
          "text": [
            "David\n",
            "25\n",
            "male\n",
            "['The dark knight', 'The shawshank redemption', 'Pulp Fiction']\n"
          ]
        }
      ]
    },
    {
      "cell_type": "code",
      "source": [
        "# get value from dictionary\n",
        "customers[\"name\"]\n",
        "print(customers[\"name\"])\n",
        "print(customers[\"fav_movie\"][1])"
      ],
      "metadata": {
        "colab": {
          "base_uri": "https://localhost:8080/"
        },
        "id": "aoqXqzHQyk3s",
        "outputId": "1421b1f5-f003-4426-c145-95d8235e9552"
      },
      "execution_count": 14,
      "outputs": [
        {
          "output_type": "stream",
          "name": "stdout",
          "text": [
            "David\n",
            "The shawshank redemption\n"
          ]
        }
      ]
    },
    {
      "cell_type": "code",
      "source": [
        "# update value in dictionary\n",
        "customers[\"name\"] = 'Davidson'\n",
        "customers[\"name\"]"
      ],
      "metadata": {
        "colab": {
          "base_uri": "https://localhost:8080/",
          "height": 35
        },
        "id": "T5F2uO7kynED",
        "outputId": "8389f078-d0d1-431a-eb6d-5d32ca5d2c6f"
      },
      "execution_count": 15,
      "outputs": [
        {
          "output_type": "execute_result",
          "data": {
            "text/plain": [
              "'Davidson'"
            ],
            "application/vnd.google.colaboratory.intrinsic+json": {
              "type": "string"
            }
          },
          "metadata": {},
          "execution_count": 15
        }
      ]
    },
    {
      "cell_type": "code",
      "source": [
        "# check if key exists\n",
        "'gender' in customers"
      ],
      "metadata": {
        "colab": {
          "base_uri": "https://localhost:8080/"
        },
        "id": "ZTOTMrqXyvWg",
        "outputId": "d416fb25-4f77-4115-e26d-8d21112b6bcb"
      },
      "execution_count": 16,
      "outputs": [
        {
          "output_type": "execute_result",
          "data": {
            "text/plain": [
              "True"
            ]
          },
          "metadata": {},
          "execution_count": 16
        }
      ]
    },
    {
      "cell_type": "code",
      "source": [
        "## control flow - For Loop\n",
        "# list of friends\n",
        "friends = [\"David\", \"Mary\", \"Anne\"]\n",
        "\n",
        "for friend in friends:\n",
        "    print(\"Hi! \" + friend)"
      ],
      "metadata": {
        "colab": {
          "base_uri": "https://localhost:8080/"
        },
        "id": "6VcgGA10yxo4",
        "outputId": "509ca23e-fc4c-463d-86b4-9a90d0348a76"
      },
      "execution_count": 17,
      "outputs": [
        {
          "output_type": "stream",
          "name": "stdout",
          "text": [
            "Hi! David\n",
            "Hi! Mary\n",
            "Hi! Anne\n"
          ]
        }
      ]
    },
    {
      "cell_type": "code",
      "source": [
        "## Function\n",
        "#create new function\n",
        "\n",
        "# define function\n",
        "def greeting():\n",
        "    print(\"Hello!\")\n",
        "greeting()"
      ],
      "metadata": {
        "colab": {
          "base_uri": "https://localhost:8080/"
        },
        "id": "EHUuiChly0dV",
        "outputId": "94544bda-6f2a-49b4-b9ef-78356a3830df"
      },
      "execution_count": 18,
      "outputs": [
        {
          "output_type": "stream",
          "name": "stdout",
          "text": [
            "Hello!\n"
          ]
        }
      ]
    },
    {
      "cell_type": "code",
      "source": [
        "def greeting(name):\n",
        "    print(\"Hello! \" + name)\n",
        "greeting(\"DOM\")\n",
        "\n",
        "\n",
        "def greeting2(name, age):\n",
        "    print(f\"{name} is {age} years old\")\n",
        "greeting2(\"DOM\", 26)\n",
        "\n",
        "\n",
        "def greeting2(name, age):\n",
        "    return(f\"{name} is {age} years old\")\n",
        "text = greeting2(\"DOM\", 26)\n",
        "print(text)"
      ],
      "metadata": {
        "colab": {
          "base_uri": "https://localhost:8080/"
        },
        "id": "mQ0tsY-Vy2sT",
        "outputId": "6ef71c42-5e99-49b4-f4d8-e8765f3d6273"
      },
      "execution_count": 19,
      "outputs": [
        {
          "output_type": "stream",
          "name": "stdout",
          "text": [
            "Hello! DOM\n",
            "DOM is 26 years old\n",
            "DOM is 26 years old\n"
          ]
        }
      ]
    },
    {
      "cell_type": "code",
      "source": [
        "## control flow - if\n",
        "# if else\n",
        "score = 85\n",
        "if score >= 80:\n",
        "    print(\"Passed\")\n",
        "else:\n",
        "    print(\"False\")"
      ],
      "metadata": {
        "colab": {
          "base_uri": "https://localhost:8080/"
        },
        "id": "13xEsxAgy5oD",
        "outputId": "71e0f449-65b4-492a-ca76-6ca2a044016f"
      },
      "execution_count": 20,
      "outputs": [
        {
          "output_type": "stream",
          "name": "stdout",
          "text": [
            "Passed\n"
          ]
        }
      ]
    },
    {
      "cell_type": "code",
      "source": [
        "# define a new function to assign grade\n",
        "def grade(score):\n",
        "    if score >= 80:\n",
        "        print(\"Passed\")\n",
        "    else:\n",
        "        print(\"False\")\n",
        "result = grade(60)"
      ],
      "metadata": {
        "colab": {
          "base_uri": "https://localhost:8080/"
        },
        "id": "1OtxoJy3y8Vw",
        "outputId": "57601382-f4fa-47d5-813c-817392c4f86c"
      },
      "execution_count": 21,
      "outputs": [
        {
          "output_type": "stream",
          "name": "stdout",
          "text": [
            "False\n"
          ]
        }
      ]
    },
    {
      "cell_type": "markdown",
      "source": [
        "## **Introduction to OOP**"
      ],
      "metadata": {
        "id": "zD8BpTGHxURW"
      }
    },
    {
      "cell_type": "code",
      "source": [
        "## Intro to OOP (Object Oreinted Programming)\n",
        "class Apple:\n",
        "    color = \"\"\n",
        "    flavour = \"\"\n",
        "    price = 0\n",
        "    # class method\n",
        "    def make_some_noise(self): #make function for this class use self\n",
        "      print(\"I am very delecious!\")\n",
        "    def update_price(self, new_price):\n",
        "      self.price = new_price\n",
        "    \n",
        "# create instance\n",
        "jonagold = Apple()\n",
        "\n",
        "#crate attribute\n",
        "jonagold.color = \"red\"\n",
        "jonagold.flavour = \"sweet\"\n",
        "jonagold.price = 100\n",
        "\n",
        "#print value/attribute\n",
        "print(jonagold.color)\n",
        "print(jonagold.flavour)\n",
        "print(jonagold.price)"
      ],
      "metadata": {
        "colab": {
          "base_uri": "https://localhost:8080/"
        },
        "id": "myJByMr_x42c",
        "outputId": "2dae38eb-c86b-4aa9-9b17-4ded0db08df0"
      },
      "execution_count": 22,
      "outputs": [
        {
          "output_type": "stream",
          "name": "stdout",
          "text": [
            "red\n",
            "sweet\n",
            "100\n"
          ]
        }
      ]
    },
    {
      "cell_type": "code",
      "source": [
        "# How to use  Apple function \n",
        "# call method\n",
        "jonagold.make_some_noise()"
      ],
      "metadata": {
        "colab": {
          "base_uri": "https://localhost:8080/"
        },
        "id": "RPHP0L_TzDyD",
        "outputId": "916eac62-09e4-45a7-9c56-2b17b9a43930"
      },
      "execution_count": 23,
      "outputs": [
        {
          "output_type": "stream",
          "name": "stdout",
          "text": [
            "I am very delecious!\n"
          ]
        }
      ]
    },
    {
      "cell_type": "code",
      "source": [
        "# call update price\n",
        "jonagold.update_price(350)\n",
        "print(jonagold.price)"
      ],
      "metadata": {
        "colab": {
          "base_uri": "https://localhost:8080/"
        },
        "id": "9NnleeDLzGkM",
        "outputId": "7d5eaef7-81d7-4a47-d6b9-46b13848fb9e"
      },
      "execution_count": 24,
      "outputs": [
        {
          "output_type": "stream",
          "name": "stdout",
          "text": [
            "350\n"
          ]
        }
      ]
    },
    {
      "cell_type": "markdown",
      "source": [
        "## **Introduction to Pandas**"
      ],
      "metadata": {
        "id": "JwZ2vgumx7er"
      }
    },
    {
      "cell_type": "code",
      "source": [],
      "metadata": {
        "id": "zkLF7vKLyCS6"
      },
      "execution_count": null,
      "outputs": []
    }
  ]
}